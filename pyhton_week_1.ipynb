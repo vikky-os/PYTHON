{
  "cells": [
    {
      "cell_type": "markdown",
      "metadata": {
        "id": "view-in-github",
        "colab_type": "text"
      },
      "source": [
        "<a href=\"https://colab.research.google.com/github/vikky-os/PYTHON/blob/python/pyhton_week_1.ipynb\" target=\"_parent\"><img src=\"https://colab.research.google.com/assets/colab-badge.svg\" alt=\"Open In Colab\"/></a>"
      ]
    },
    {
      "cell_type": "markdown",
      "source": [
        "# **PROGRAMMING IN PYTHON**"
      ],
      "metadata": {
        "id": "O7f4tX_DwDTA"
      }
    },
    {
      "cell_type": "markdown",
      "source": [
        "# WEEK 1 CONTENT\n"
      ],
      "metadata": {
        "id": "B-5Q94TbxVjZ"
      }
    },
    {
      "cell_type": "markdown",
      "source": [
        "##PRINT STATEMENT\n"
      ],
      "metadata": {
        "id": "E5AfjXzmwX2D"
      }
    },
    {
      "cell_type": "code",
      "source": [
        "print(\"hello world\", \"hello INDIA\")\n",
        "print(10, 20.5)"
      ],
      "metadata": {
        "colab": {
          "base_uri": "https://localhost:8080/"
        },
        "id": "0yfBWzAPwljD",
        "outputId": "b9571af6-5dfa-4daa-8107-838c4d60557d"
      },
      "execution_count": 1,
      "outputs": [
        {
          "output_type": "stream",
          "name": "stdout",
          "text": [
            "hello world hello INDIA\n",
            "10 20.5\n"
          ]
        }
      ]
    },
    {
      "cell_type": "markdown",
      "source": [
        "print statement is the easiest command in python wich can be used to write direct strings, whole numbers and float\n",
        "print is flexible where we can write one message or multiple messages at the same time."
      ],
      "metadata": {
        "id": "urXoSTCTxBkE"
      }
    },
    {
      "cell_type": "markdown",
      "source": [
        "RULES\n"
      ],
      "metadata": {
        "id": "Z5tOjHNQxxVw"
      }
    },
    {
      "cell_type": "markdown",
      "source": [
        "\n",
        "\n",
        "*   only use round brackets while using print statement\n",
        "*   you have to use single or double quotes for typing in string values\n",
        "\n"
      ],
      "metadata": {
        "id": "RBcjKyxayB-o"
      }
    },
    {
      "cell_type": "markdown",
      "source": [
        "## INTRODUCTION TO VARIABLES"
      ],
      "metadata": {
        "id": "oUSZfb5rysUs"
      }
    },
    {
      "cell_type": "code",
      "source": [
        "a=20\n",
        "b=30\n",
        "c=a+b\n",
        "print(a,\"added to\", b,\"equals to\",c)"
      ],
      "metadata": {
        "colab": {
          "base_uri": "https://localhost:8080/"
        },
        "id": "aI8Z4CPXzL4P",
        "outputId": "7b8494ad-daf5-4578-ef44-cb7cbb5a04a7"
      },
      "execution_count": 3,
      "outputs": [
        {
          "output_type": "stream",
          "name": "stdout",
          "text": [
            "20 added to 30 equals to 50\n"
          ]
        }
      ]
    },
    {
      "cell_type": "code",
      "source": [
        "a=int(input(\"enter the value of a:\"))\n",
        "a=a+5\n",
        "print(a)"
      ],
      "metadata": {
        "colab": {
          "base_uri": "https://localhost:8080/"
        },
        "id": "OPuZ-8GZzzqA",
        "outputId": "a6d141e5-102d-4699-af60-0e3327de8273"
      },
      "execution_count": 6,
      "outputs": [
        {
          "output_type": "stream",
          "name": "stdout",
          "text": [
            "enter the value of a:200\n",
            "205\n"
          ]
        }
      ]
    },
    {
      "cell_type": "markdown",
      "source": [
        "variable is a character used to store a specific value assigned to it."
      ],
      "metadata": {
        "id": "QxS1dtoQ0Wrg"
      }
    },
    {
      "cell_type": "code",
      "source": [
        "n=str(input(\"enter your name:\"))\n",
        "print(\"hello!,\",n, \"how are you doing?\")\n",
        "p=str(input(\"enter your current place:\"))\n",
        "print(\"good to know that you're from\",p)\n",
        "age=int(input(\"can you tell me your age:\"))\n",
        "print(\"lovely!\",n,\"you seem to be very young\")"
      ],
      "metadata": {
        "colab": {
          "base_uri": "https://localhost:8080/"
        },
        "id": "05X9R-171Ste",
        "outputId": "338fe34f-3fc5-40e1-e48d-2299d55a97bc"
      },
      "execution_count": 9,
      "outputs": [
        {
          "output_type": "stream",
          "name": "stdout",
          "text": [
            "enter your name:vikky\n",
            "hello!, vikky how are you doing?\n",
            "enter your current place:agra\n",
            "good to know that you're from agra\n",
            "can you tell me your age:19\n",
            "lovely! vikky you seem to be very young\n"
          ]
        }
      ]
    },
    {
      "cell_type": "markdown",
      "source": [
        "##DATA TYPES\n"
      ],
      "metadata": {
        "id": "bI7icnqq3S0d"
      }
    },
    {
      "cell_type": "code",
      "source": [
        "n=10.2\n",
        "print(n)\n",
        "print(type(n),\"is the class of n\")\n",
        "v=\"vikky\"\n",
        "#you can't directly convert str into int whereas\n",
        "#you can convert a string like\"2.7\" etc using int(float(\"2.7\")\n",
        "print(v)\n",
        "print(type(v),\"is the class of v\")\n",
        "a=True\n",
        "print(a)\n",
        "print(type(a),\"is the class of a\")"
      ],
      "metadata": {
        "id": "ItKC81SZ3esu",
        "outputId": "a935849e-9aa4-4c51-e187-c056a3e73061",
        "colab": {
          "base_uri": "https://localhost:8080/"
        }
      },
      "execution_count": 30,
      "outputs": [
        {
          "output_type": "stream",
          "name": "stdout",
          "text": [
            "10.2\n",
            "<class 'float'> is the class of n\n",
            "vikky\n",
            "<class 'str'> is the class of v\n",
            "True\n",
            "<class 'bool'> is the class of a\n"
          ]
        }
      ]
    },
    {
      "cell_type": "markdown",
      "source": [],
      "metadata": {
        "id": "T-sxzYPp7fDP"
      }
    },
    {
      "cell_type": "markdown",
      "source": [
        "we have various datatypes in python:\n",
        "\n",
        "*   string : alphbetical values\n",
        "*   integer : whole numbers\n",
        "*   float : decimal values\n",
        "*   boolean : true and false only\n",
        "\n",
        "** list : enclosed by square brackets, can contain muliple values which can be of all three types -integers, float and string\n",
        "\n",
        "\n",
        "\n"
      ],
      "metadata": {
        "id": "9z3HExbG411s"
      }
    },
    {
      "cell_type": "code",
      "source": [
        "l=[12,23,23,\"str\"]\n",
        "print(type(l[0]))\n",
        "print(type(l[1]))\n",
        "print(type(l[3]))"
      ],
      "metadata": {
        "colab": {
          "base_uri": "https://localhost:8080/"
        },
        "collapsed": true,
        "id": "aSJ6rZ5f5fXy",
        "outputId": "c2b2098f-ae5c-4518-f938-ebd701e90b25"
      },
      "execution_count": 19,
      "outputs": [
        {
          "output_type": "stream",
          "name": "stdout",
          "text": [
            "<class 'int'>\n",
            "<class 'int'>\n",
            "<class 'str'>\n"
          ]
        }
      ]
    },
    {
      "cell_type": "markdown",
      "source": [
        "###TYPE CONVERSION OF DATATYPES"
      ],
      "metadata": {
        "id": "mLi_xljO9_1I"
      }
    },
    {
      "cell_type": "code",
      "source": [
        "#type conversion\n",
        "a=int(2.8)\n",
        "b=float(3)\n",
        "c=bool(0)\n",
        "#bool will only give false when the value is 0\n",
        "#bool will also give false when u enter an empty str\n",
        "d=bool(3)\n",
        "e=bool('')\n",
        "print(a)\n",
        "print(b)\n",
        "print(c)\n",
        "print(d)\n",
        "print(e)\n"
      ],
      "metadata": {
        "colab": {
          "base_uri": "https://localhost:8080/"
        },
        "id": "bfKOZ5pi84B6",
        "outputId": "403b9c7b-5e3d-4003-8788-92d2b8bcfe33"
      },
      "execution_count": 33,
      "outputs": [
        {
          "output_type": "stream",
          "name": "stdout",
          "text": [
            "2\n",
            "3.0\n",
            "False\n",
            "True\n",
            "False\n"
          ]
        }
      ]
    },
    {
      "cell_type": "markdown",
      "source": [
        "##OPERATORS AND EXPRESSIONS\n",
        "\n"
      ],
      "metadata": {
        "id": "0w0bn_BH-N9w"
      }
    },
    {
      "cell_type": "code",
      "source": [
        "#concatenation\n",
        "a=\"vikky\"\n",
        "b=\"yadav\"\n",
        "c=a+ b\n",
        "print(c)"
      ],
      "metadata": {
        "colab": {
          "base_uri": "https://localhost:8080/"
        },
        "id": "Csl8I_Qq-jP8",
        "outputId": "b900d046-0107-41f5-bd45-d19532426f8a"
      },
      "execution_count": 40,
      "outputs": [
        {
          "output_type": "stream",
          "name": "stdout",
          "text": [
            "vikkyyadav\n",
            "3.25\n"
          ]
        }
      ]
    },
    {
      "cell_type": "markdown",
      "source": [
        "but if you try to multiply both the strings then it will show an error."
      ],
      "metadata": {
        "id": "0mWnEIohA8W-"
      }
    },
    {
      "cell_type": "markdown",
      "source": [
        "**ARITHEMATIC OPERATORS**"
      ],
      "metadata": {
        "id": "tMqJy5jBBGVf"
      }
    },
    {
      "cell_type": "code",
      "source": [
        "print(\"add\",2+4)\n",
        "print(\"substraction\", 6-2)\n",
        "print(\"multiply\", 2*3)\n",
        "print(\"division\", 7/3)\n",
        "print(\"floor division\", 7//3)\n",
        "print(\"modulo\",7%3)\n",
        "print(\"exponential\",2**3)\n"
      ],
      "metadata": {
        "colab": {
          "base_uri": "https://localhost:8080/"
        },
        "id": "fyznxn15A6L_",
        "outputId": "0fe2ab7e-3687-432f-dd85-dc590cb07dbd"
      },
      "execution_count": 41,
      "outputs": [
        {
          "output_type": "stream",
          "name": "stdout",
          "text": [
            "add 6\n",
            "substraction 4\n",
            "multiply 6\n",
            "division 2.3333333333333335\n",
            "floor division 2\n",
            "modulo 1\n",
            "exponential 8\n"
          ]
        }
      ]
    },
    {
      "cell_type": "markdown",
      "source": [
        "**RELATIONAL OPERTAORS**"
      ],
      "metadata": {
        "id": "COBXgzJCB6NI"
      }
    },
    {
      "cell_type": "code",
      "source": [
        "# relational <,>,==,!=,<=,>= output will always be boolean values\n",
        "print(5<4)\n",
        "print(10<=10)\n",
        "print(5!=5)"
      ],
      "metadata": {
        "colab": {
          "base_uri": "https://localhost:8080/"
        },
        "id": "yWLlNjgHCFV4",
        "outputId": "47884071-9285-455e-cfc9-a7f9438633f9"
      },
      "execution_count": 42,
      "outputs": [
        {
          "output_type": "stream",
          "name": "stdout",
          "text": [
            "False\n",
            "True\n",
            "False\n"
          ]
        }
      ]
    },
    {
      "cell_type": "markdown",
      "source": [
        "**LOGICAL OPERATORS**"
      ],
      "metadata": {
        "id": "qooqD9rODVfO"
      }
    },
    {
      "cell_type": "code",
      "source": [
        "print(True and True)\n",
        "print(True or False)\n",
        "print(False and True)\n",
        "print(not True)\n",
        "print(not False)\n"
      ],
      "metadata": {
        "colab": {
          "base_uri": "https://localhost:8080/"
        },
        "id": "dvQfyC5cDbqj",
        "outputId": "48789a36-b615-44a2-b8b4-c907d5539633"
      },
      "execution_count": 43,
      "outputs": [
        {
          "output_type": "stream",
          "name": "stdout",
          "text": [
            "True\n",
            "True\n",
            "False\n",
            "False\n",
            "True\n"
          ]
        }
      ]
    },
    {
      "cell_type": "markdown",
      "source": [
        "##INTRO TO STRINGS"
      ],
      "metadata": {
        "id": "iFa9jNrvD_ss"
      }
    },
    {
      "cell_type": "markdown",
      "source": [
        "**String slicing**"
      ],
      "metadata": {
        "id": "lHw5MbwBE0fm"
      }
    },
    {
      "cell_type": "code",
      "source": [
        "s=\"coffee\"\n",
        "t=\"bread\"\n",
        "print(s)\n",
        "print(s[2:5]) #5th value won't be included\n",
        "print(t)\n",
        "print(t[0:3])"
      ],
      "metadata": {
        "colab": {
          "base_uri": "https://localhost:8080/"
        },
        "id": "XQG7EMvGEG_J",
        "outputId": "465b78dd-75e6-4efe-cd28-d6f2ae519a71"
      },
      "execution_count": 44,
      "outputs": [
        {
          "output_type": "stream",
          "name": "stdout",
          "text": [
            "coffee\n",
            "ffe\n",
            "bread\n",
            "bre\n"
          ]
        }
      ]
    },
    {
      "cell_type": "markdown",
      "source": [
        "**INDEX, SLICING, CONCATENATION**"
      ],
      "metadata": {
        "id": "H-hcYnt9F34c"
      }
    },
    {
      "cell_type": "code",
      "source": [
        "s='0123456789'\n",
        "a=s[1]\n",
        "b=s[3]\n",
        "print(a+b)\n",
        "\n",
        "c=int(s[1])\n",
        "d=int(s[3])\n",
        "print(c+d)"
      ],
      "metadata": {
        "colab": {
          "base_uri": "https://localhost:8080/"
        },
        "id": "ALPPR60WFKpe",
        "outputId": "01259b1f-3b87-4676-ed0d-acafa143c7f5"
      },
      "execution_count": 46,
      "outputs": [
        {
          "output_type": "stream",
          "name": "stdout",
          "text": [
            "13\n",
            "4\n"
          ]
        }
      ]
    },
    {
      "cell_type": "markdown",
      "source": [
        "**MORE ON STRINGS**"
      ],
      "metadata": {
        "id": "-TWz-h-8GDO6"
      }
    },
    {
      "cell_type": "code",
      "source": [
        "s='good'\n",
        "print(s*2)\n",
        "#string comparision\n",
        "print(s=='good')\n",
        "print(s=='bad')\n",
        "print('apple'>'vikky') #how?\n",
        "#this compares a with v, since v comes after a, likewise it compares all and gives result\n",
        "print(\"z\">'b')\n",
        "\n",
        "#negative=reverse string indexing\n",
        "p='python'\n",
        "print(len(p))\n",
        "print(p[-1])\n",
        "print(p[-2])\n",
        "print(p[-3])\n",
        "print(p[-4])\n",
        "print(p[-5])\n",
        "print(p[-6])\n",
        "\n"
      ],
      "metadata": {
        "colab": {
          "base_uri": "https://localhost:8080/"
        },
        "id": "YJMDeqz6GMzt",
        "outputId": "a3c780b1-133f-483a-f4a7-453340f02c5d"
      },
      "execution_count": 55,
      "outputs": [
        {
          "output_type": "stream",
          "name": "stdout",
          "text": [
            "goodgood\n",
            "True\n",
            "False\n",
            "False\n",
            "True\n",
            "6\n",
            "n\n",
            "o\n",
            "h\n",
            "t\n",
            "y\n",
            "p\n"
          ]
        }
      ]
    },
    {
      "cell_type": "markdown",
      "source": [
        "indexing always starts from 0 to n in python and while we use negative indexing it starts from the back of the string and uses -1(end) to -n(start) ."
      ],
      "metadata": {
        "id": "YnP2vRgYIHHp"
      }
    }
  ],
  "metadata": {
    "colab": {
      "name": "Welcome To Colab",
      "toc_visible": true,
      "provenance": [],
      "include_colab_link": true
    },
    "kernelspec": {
      "display_name": "Python 3",
      "name": "python3"
    }
  },
  "nbformat": 4,
  "nbformat_minor": 0
}